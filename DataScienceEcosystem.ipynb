{
 "cells": [
  {
   "cell_type": "code",
   "execution_count": 1,
   "id": "9b3e5a79-409f-4bfd-a028-6c833db13d2a",
   "metadata": {},
   "outputs": [],
   "source": [
    "# Data Science Tools and Ecosystem"
   ]
  },
  {
   "cell_type": "markdown",
   "id": "936b1951-9a5d-452d-a39b-a1db6eca4fab",
   "metadata": {},
   "source": [
    "# Data Science Tools and Ecosystem"
   ]
  },
  {
   "cell_type": "markdown",
   "id": "22b77a7a-b9fe-407d-a857-b6900d200067",
   "metadata": {},
   "source": [
    "In this notebook, Data Science Tools and Ecosystem are summarized."
   ]
  },
  {
   "cell_type": "markdown",
   "id": "1e070d34-eaec-4f59-9a34-3856226f8522",
   "metadata": {},
   "source": [
    "__Objectives:__\n",
    "- Learnt data science tools"
   ]
  },
  {
   "cell_type": "markdown",
   "id": "f3ae2f97-778c-4e61-a049-be58b654fae6",
   "metadata": {},
   "source": [
    "Some of the popular languages that Data Scientists use are:\n",
    "1. R\n",
    "2. Python\n",
    "3. SQL"
   ]
  },
  {
   "cell_type": "markdown",
   "id": "7842ed4d-f47c-421a-bbf2-5c233be98f8b",
   "metadata": {},
   "source": [
    "Some of the commonly used libraries used by Data Scientists include:\n",
    "1. NumPy\n",
    "2. MatplotLib\n",
    "3. SciPy"
   ]
  },
  {
   "cell_type": "markdown",
   "id": "84c3f317-5a86-42e9-a13a-528cbce72078",
   "metadata": {},
   "source": [
    "| DataScience Tools |\n",
    "| ----------------- |\n",
    "| Tableau |\n",
    "| Jupyter Notebook |\n",
    "| Tensor Flow |"
   ]
  },
  {
   "cell_type": "markdown",
   "id": "1790a9ed-dcac-45e8-8d4b-b297078fef32",
   "metadata": {},
   "source": [
    "### Below are a few examples of evaluating arithmetic expressions in Python:\n",
    "2+2=4"
   ]
  },
  {
   "cell_type": "code",
   "execution_count": 5,
   "id": "50df64ed-15ce-433d-a399-c1dfd486810f",
   "metadata": {},
   "outputs": [
    {
     "data": {
      "text/plain": [
       "17"
      ]
     },
     "execution_count": 5,
     "metadata": {},
     "output_type": "execute_result"
    }
   ],
   "source": [
    "# This a simple arithmetic expression to mutiply then add integers\n",
    "(3*4)+5\n",
    "\n"
   ]
  },
  {
   "cell_type": "code",
   "execution_count": 6,
   "id": "b019b0eb-cfcf-464f-803c-79b8f634bf65",
   "metadata": {},
   "outputs": [
    {
     "data": {
      "text/plain": [
       "4"
      ]
     },
     "execution_count": 6,
     "metadata": {},
     "output_type": "execute_result"
    }
   ],
   "source": [
    "# Addition operation\n",
    "2+2"
   ]
  },
  {
   "cell_type": "code",
   "execution_count": 7,
   "id": "e2c5c5a9-262b-402f-ba6c-0449d2d9e9b5",
   "metadata": {},
   "outputs": [
    {
     "data": {
      "text/plain": [
       "3.3333333333333335"
      ]
     },
     "execution_count": 7,
     "metadata": {},
     "output_type": "execute_result"
    }
   ],
   "source": [
    "# This will convert 200 minutes to hours by diving by 60\n",
    "200/60"
   ]
  },
  {
   "cell_type": "markdown",
   "id": "7e597e0a-62e9-456d-9cf6-192c7adefd07",
   "metadata": {},
   "source": [
    "## Author:\n",
    "Mauli"
   ]
  },
  {
   "cell_type": "code",
   "execution_count": null,
   "id": "d718f688-a912-49f2-bee6-bb35b4eb2c3a",
   "metadata": {},
   "outputs": [],
   "source": []
  }
 ],
 "metadata": {
  "kernelspec": {
   "display_name": "Python 3 (ipykernel)",
   "language": "python",
   "name": "python3"
  },
  "language_info": {
   "codemirror_mode": {
    "name": "ipython",
    "version": 3
   },
   "file_extension": ".py",
   "mimetype": "text/x-python",
   "name": "python",
   "nbconvert_exporter": "python",
   "pygments_lexer": "ipython3",
   "version": "3.11.9"
  }
 },
 "nbformat": 4,
 "nbformat_minor": 5
}
